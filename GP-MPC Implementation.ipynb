{
 "cells": [
  {
   "cell_type": "markdown",
   "metadata": {},
   "source": [
    "# Learning-Based Model Predictive Control for Autonomous Racing\n",
    "\n",
    "In this Notebook I am doing a quick implementation of the Learning-Based Model Predictive Control framework, proposed by Kabzan et.al. (2019). The paper that introduces this algorithm can be found through the following link.\n",
    "\n",
    "https://www.research-collection.ethz.ch/handle/20.500.11850/351561\n",
    "\n",
    "I am doing this implementation purely to understand the concept as detailed as possible in preperation for an interview for a master's thesis. If parts of the code (that are not part of any library) are not written by me, I will mark them as such. \n",
    "\n",
    "All credit for the development of this framework goes to Kabzan et.al.."
   ]
  },
  {
   "cell_type": "markdown",
   "metadata": {},
   "source": [
    "All the constants, weights and gains are set to general or estimated values.\n",
    "\n",
    "Notes: \n",
    "- Using functions is suboptimal (defining a class would propably be the better approach) but since this is supposed to just a quick implementation to get a better understanding, I did not bother.\n"
   ]
  },
  {
   "cell_type": "code",
   "execution_count": 1,
   "metadata": {},
   "outputs": [],
   "source": [
    "import numpy as np\n",
    "from numpy.linalg import inv\n",
    "from scipy.integrate import solve_ivp\n",
    "import matplotlib.pyplot as plt\n",
    "\n",
    "%matplotlib inline"
   ]
  },
  {
   "cell_type": "markdown",
   "metadata": {},
   "source": [
    "First, I define the constants and initial values for the state vector and the driver input"
   ]
  },
  {
   "cell_type": "code",
   "execution_count": 170,
   "metadata": {
    "scrolled": false
   },
   "outputs": [],
   "source": [
    "# Gausian Process regression\n",
    "w_value = 0.1 # zero-mean Gausian process noise value (with diagonal variance (diag([sigma_1^2, sigma_2^2, ..., sigma_nf^2])))\n",
    "\n",
    "# Nominal Vehicle Model\n",
    "\n",
    "m = 1000 # vehicle mass [kg]\n",
    "I_z = 2000 # yaw moment of interia [kg m²]\n",
    "l_R = 1.5 # distance from the center of gravity of the car to the rear axle [m]\n",
    "l_F = 1.5 # distance from the center of gravity of the car to the front axle [m]\n",
    "P_TV = 0.5 # proportional controller gain for the torque vectoring controler [positive real number]\n",
    "\n",
    "D_F = 1 # Tire constants for the computation of the drive-train Y-forces\n",
    "D_R = 1\n",
    "C_F = 1.9\n",
    "C_R = 1.9\n",
    "B_F = 10\n",
    "B_R = 10\n",
    "\n",
    "C_m1 = 50 # Drivetrain constant for the Computation of F_x\n",
    "C_r0 = 1 # Rolling resistance\n",
    "C_r2 = 1 # Drag coefficient\n",
    "\n",
    "\n",
    "### Initializing the first statevector for the model with the initial values----------------------------------------------\n",
    "\n",
    "X_0 = 0 # Initial X position (global)\n",
    "Y_0 = 0 # Initial Y position (global)\n",
    "phi_0 = 0 # Initial heading angle (global)\n",
    "v_x_0 = 0.000000001 # Initial x velocity (vehicle) not 0 to avoid problems with the integral\n",
    "v_y_0 = 0.000000001 # Initial y velocity (vehicle) not 0 to avoid problems with the integral\n",
    "r_0 = 0 # Initial yaw rate\n",
    "delta_0 = 0 # Initial steering angle \n",
    "T_0 = 1 # Initial desired accaleration\n",
    "\n",
    "x = np.array([[X_0, Y_0, phi_0, v_x_0, v_y_0, r_0, delta_0, T_0]]) # Initial state vector x\n",
    "\n",
    "\n",
    "### Here I am initializing the first inputvector for the model with initial values----------------------------------------\n",
    "\n",
    "d_delta_0 = 0 # Initial change in steering angle\n",
    "d_T_0 = 0 # Initial change in desired acceleration\n",
    "\n",
    "u = np.array([[d_delta_0, d_T_0]]) # Initial driver inputs to the system\n"
   ]
  },
  {
   "cell_type": "markdown",
   "metadata": {},
   "source": [
    "In the next cell, all the relevant functions for the nominal state computation of the vehicle are defined\n",
    "\n",
    "- Nominal vehicle state update is not implimented properly, however I did not figure out how to make the integration work with the function having basicaly 10 input variables and only 8 output variables due to the fact that delta_d and delta_T both appear in the state vector derivative. This is why the nominal vehicle state update only takes a statevector as input and always uses the last recorded driver input."
   ]
  },
  {
   "cell_type": "code",
   "execution_count": 171,
   "metadata": {},
   "outputs": [],
   "source": [
    "### Definition of the vehicle dynamics function---------------------------------------------------------------------------\n",
    "\n",
    "# This function takes in a statevector x and outputs the analytical derivitive of the statevector x_dot.\n",
    "# Uses the last element of the driver input vector u !!! \n",
    "\n",
    "def vehicle_dynamics(t, x):\n",
    "    \n",
    "    # Decomposing the statevector into its different values\n",
    "    \n",
    "    X = x[0]\n",
    "    Y = x[1]\n",
    "    phi = x[2]\n",
    "    v_x = x[3]\n",
    "    v_y = x[4]\n",
    "    r = x[5]\n",
    "    delta = x[6]\n",
    "    T = x[7]\n",
    "    d_delta = u[-1][0]\n",
    "    d_T = u[-1][1]\n",
    "    \n",
    "    # Computing the additional yaw torque from the torque-controller, the front and read slip angles \n",
    "    # and the longitudinal drive-train forces.\n",
    "    # l_R, l_F and P_TV are the distances to the front and read axles and the the gain for the \n",
    "    # torque-controller respectively\n",
    "    \n",
    "    r_target = delta*(v_x/(l_R+l_F))\n",
    "    tau_TV = (r_target - r)*P_TV # Additional torque generated by the torque vectoring controller\n",
    "    \n",
    "    alpha_R = np.arctan((v_y - l_R*r)/v_x) # Front slip angle\n",
    "    alpha_F = np.arctan((v_y + l_F*r)/v_x) - delta # Rear slip angle\n",
    "    F_Ry = D_R*np.sin(C_R*np.arctan(B_R*alpha_R)) # Rear lateral force\n",
    "    F_Fy = D_F*np.sin(C_F*np.arctan(B_F*alpha_F)) # Front lateral force\n",
    "    F_x = C_m1*T - C_r0 - C_r2*(v_x**2) # Applied longitudinal force\n",
    "    \n",
    "    # Computing the values of x_dot seperately for better visibility\n",
    "    \n",
    "    X_dot = v_x*np.cos(phi) - v_y*np.sin(phi)\n",
    "    Y_dot = v_x*np.sin(phi) + v_y*np.cos(phi)\n",
    "    phi_dot = r\n",
    "    v_x_dot = (F_x - F_Fy*np.sin(delta) + m*v_y*r)/m\n",
    "    v_y_dot = (F_Ry + F_Fy*np.cos(delta) - m*v_x*r)/m\n",
    "    r_dot =  (F_Fy*l_F*np.cos(delta) - F_Ry*l_R + tau_TV)/I_z\n",
    "    delta_dot = d_delta \n",
    "    T_dot = d_T\n",
    "    \n",
    "    x_dot = np.array([X_dot, Y_dot, phi_dot, v_x_dot, v_y_dot, r_dot, delta_dot, T_dot])\n",
    "    \n",
    "    return x_dot\n",
    "\n",
    "\n",
    "### Definition of the integration step for the nominal vehicle state------------------------------------------------------\n",
    "\n",
    "# Use the Runge-Kutta 4/5th order integration to solve for the new nominal state of the vehicle\n",
    "# This is probably not entirely right. If I set the initial velocity to 0, the integral gets stuck.\n",
    "\n",
    "def nominal_vehicle_state(x):\n",
    "    return solve_ivp(vehicle_dynamics, t_span = (0, 0.05), y0 = x).y.T[-1]\n",
    "    \n",
    "    \n",
    "### Definition of the statevector update function-------------------------------------------------------------------------\n",
    "\n",
    "# The function takes as input the current state x_k, \n",
    "# the subspace definition matrix B_d, the input of the Gausian Process regression,\n",
    "# the Gausian noise diagonal matrix containing the variances and it outputs\n",
    "# the next state of the vehicle x_k+1.\n",
    "\n",
    "def state_vector_update(x, B_d, z, w):\n",
    "    \n",
    "    x_new = nominal_vehicle_state(x) + B_d@(d(z) + w)\n",
    "    \n",
    "    return x_new"
   ]
  },
  {
   "cell_type": "markdown",
   "metadata": {},
   "source": [
    "Below I verify my implementation of the nominal state computation by running tests with some constant steering (0.1rad) and accaleration (1) inputs.\n",
    "\n",
    "IMPORTANT: The acctual values e.g. acceleration are not realistic because I estimated all the constants like drivetrain and the constants for the tire model. This means that an acceleration of 1 which equals to the maximum acceleration possible would not result in the the kind of velocity increase you would expect."
   ]
  },
  {
   "cell_type": "code",
   "execution_count": 172,
   "metadata": {
    "scrolled": false
   },
   "outputs": [],
   "source": [
    "### Initializing the first statevector for the model with the initial values----------------------------------------------\n",
    "\n",
    "X_0 = 0 # Initial X position (global)\n",
    "Y_0 = 0 # Initial Y position (global)\n",
    "phi_0 = 0 # Initial heading angle (global)\n",
    "v_x_0 = 0.000000000000001 # Initial x velocity (vehicle) not 0 to avoid problems with the integral\n",
    "v_y_0 = 0.000000000000001 # Initial y velocity (vehicle) not 0 to avoid problems with the integral\n",
    "r_0 = 0 # Initial yaw rate\n",
    "delta_0 = 0.01 # Initial steering angle \n",
    "T_0 = 1 # Initial desired accaleration\n",
    "\n",
    "x = np.array([[X_0, Y_0, phi_0, v_x_0, v_y_0, r_0, delta_0, T_0]]) # Initial state vector x\n",
    "\n",
    "### Here I am initializing the first inputvector for the model with initial values----------------------------------------\n",
    "\n",
    "d_delta_0 = 0 # Initial change in steering angle\n",
    "d_T_0 = 0 # Initial change in desired acceleration\n",
    "\n",
    "u = np.array([[d_delta_0, d_T_0]]) # Initial driver inputs to the system\n",
    "\n",
    "for k in range(2000):\n",
    "    z = np.array([nominal_vehicle_state(x[k])])\n",
    "    x = np.append(x, z, axis=0) # appending the new statevector\n"
   ]
  },
  {
   "cell_type": "code",
   "execution_count": 173,
   "metadata": {},
   "outputs": [
    {
     "data": {
      "image/png": "[encoded data removed]",
      "text/plain": [
       "<Figure size 432x288 with 1 Axes>"
      ]
     },
     "metadata": {
      "needs_background": "light"
     },
     "output_type": "display_data"
    }
   ],
   "source": [
    "xplot = x.T[0]\n",
    "yplot = x.T[1]\n",
    "plt.xlim(-1,300)\n",
    "plt.ylim(-100,1)\n",
    "plt.xlabel(\"X\")\n",
    "plt.ylabel(\"Y\")\n",
    "plt.plot(xplot,yplot)\n",
    "plt.show()"
   ]
  },
  {
   "cell_type": "markdown",
   "metadata": {},
   "source": [
    "The plot shows the X and Y coordinates of the vehicle after the first 2000 iterations (equal to 100 seconds). \n",
    "For a constant acceleration and steering angle the plot looks realistic.\n",
    "The fact that with more iteration, the constant steering angle delta has less and less effect on the trajectory is possibly due to the decreasing sideslip angle, and the consequently decreasing lateral forces on the vehicle. "
   ]
  },
  {
   "cell_type": "code",
   "execution_count": 176,
   "metadata": {
    "scrolled": true
   },
   "outputs": [
    {
     "data": {
      "image/png": "[encoded data removed]",
      "text/plain": [
       "<Figure size 432x288 with 1 Axes>"
      ]
     },
     "metadata": {
      "needs_background": "light"
     },
     "output_type": "display_data"
    }
   ],
   "source": [
    "xplot = range(2001)\n",
    "yplot = x.T[3]\n",
    "plt.xlabel(\"iterations\")\n",
    "plt.ylabel(\"velocity in x direction\")\n",
    "plt.plot(xplot,yplot)\n",
    "plt.show()"
   ]
  },
  {
   "cell_type": "markdown",
   "metadata": {},
   "source": [
    "This plot also makes sense, since the velocity should increase linear with a constant accaleration. The flattening during the end is most likely due to the dragcoefficient preventing the vehicle from increasing its velocity linearly, and the fact that it steers towards negative Y over time, resulting in a decrease in velocity_x and an increase in velocity_y"
   ]
  },
  {
   "cell_type": "code",
   "execution_count": 177,
   "metadata": {},
   "outputs": [
    {
     "data": {
      "image/png": "[encoded data removed]",
      "text/plain": [
       "<Figure size 432x288 with 1 Axes>"
      ]
     },
     "metadata": {
      "needs_background": "light"
     },
     "output_type": "display_data"
    }
   ],
   "source": [
    "xplot = range(2001)\n",
    "yplot = x.T[4]\n",
    "plt.xlabel(\"iterations\")\n",
    "plt.ylabel(\"velocity in y direction\")\n",
    "plt.plot(xplot,yplot)\n",
    "plt.show()"
   ]
  },
  {
   "cell_type": "code",
   "execution_count": 178,
   "metadata": {},
   "outputs": [],
   "source": [
    "### Computing and appending the new statevector and the new driver input--------------------------------------------------\n",
    "\n",
    "#x_new = state_vector_update(x[k], u[k], B_d, z[k], w[k]) # Computing x[k+1]\n",
    "\n",
    "#Das ist nicht korrekt, beschreibt u[k] u_new muss anders gefunden werden\n",
    "#u_new = vehicle_dynamics(x, u)[6:8] # Computing u[k+1]\n",
    "\n",
    "#x = np.append(x, x_new, axis=0) # appending the new statevector\n",
    "#u = np.append(u, u_new, axis=0) # appending the new driver input"
   ]
  },
  {
   "cell_type": "code",
   "execution_count": null,
   "metadata": {},
   "outputs": [],
   "source": []
  },
  {
   "cell_type": "code",
   "execution_count": null,
   "metadata": {},
   "outputs": [],
   "source": []
  }
 ],
 "metadata": {
  "kernelspec": {
   "display_name": "Python 3",
   "language": "python",
   "name": "python3"
  },
  "language_info": {
   "codemirror_mode": {
    "name": "ipython",
    "version": 3
   },
   "file_extension": ".py",
   "mimetype": "text/x-python",
   "name": "python",
   "nbconvert_exporter": "python",
   "pygments_lexer": "ipython3",
   "version": "3.7.1"
  }
 },
 "nbformat": 4,
 "nbformat_minor": 4
}
