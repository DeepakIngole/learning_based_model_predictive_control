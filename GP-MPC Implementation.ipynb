{
 "cells": [
  {
   "cell_type": "markdown",
   "metadata": {},
   "source": [
    "# Learning-Based Model Predictive Control for Autonomous Racing\n",
    "\n",
    "In this Notebook I am doing a quick implementation of the Learning-Based Model Predictive Control framework, proposed by Kabzan et.al. (2019). The paper that introduces this algorithm can be found through the following link.\n",
    "\n",
    "https://www.research-collection.ethz.ch/handle/20.500.11850/351561\n",
    "\n",
    "I am doing this implementation purely to understand the concept as detailed as possible in preperation for an interview for a master's thesis. \n",
    "\n",
    "All credit for the development of this framework goes to Kabzan et.al.."
   ]
  },
  {
   "cell_type": "markdown",
   "metadata": {},
   "source": [
    "All the constants, weights and gains are set to random or estimated values.\n",
    "\n",
    "In a serious implimentation the controller would probably be implimented as a subclass of some sort, updating the internal vehicle state variables. But since this just for my familiarization with the given framework, I used simple functions to achieve the desired computation. These could be in theory be adaped and used in a more serious aproach."
   ]
  },
  {
   "cell_type": "code",
   "execution_count": 1,
   "metadata": {},
   "outputs": [],
   "source": [
    "import numpy as np\n",
    "from numpy.linalg import inv\n",
    "from numpy.linalg import pinv\n",
    "from numpy.linalg import eig\n",
    "from numpy.linalg import norm\n",
    "from scipy.integrate import solve_ivp\n",
    "from scipy.stats import chi2\n",
    "import matplotlib.pyplot as plt\n",
    "from sklearn.gaussian_process import GaussianProcessRegressor\n",
    "from sklearn.gaussian_process.kernels import RBF\n",
    "import random\n",
    "\n",
    "%matplotlib inline"
   ]
  },
  {
   "cell_type": "markdown",
   "metadata": {},
   "source": [
    "In the following cell, I define the some constants and initial values as well as the initial statevector and driver input vector. Additionaly, I am creating the dictionary for the collection of trainingdata for the Gaussian Process Regression and the subspace definition matrix B_d\n"
   ]
  },
  {
   "cell_type": "code",
   "execution_count": 2,
   "metadata": {
    "scrolled": false
   },
   "outputs": [],
   "source": [
    "# Nominal Vehicle Model\n",
    "m = 1000 # vehicle mass [kg]\n",
    "I_z = 2000 # yaw moment of interia [kg m²]\n",
    "l_R = 1.5 # distance from the center of gravity of the car to the rear axle [m]\n",
    "l_F = 1.5 # distance from the center of gravity of the car to the front axle [m]\n",
    "P_TV = 0.5 # proportional controller gain for the torque vectoring controler [positive real number]\n",
    "\n",
    "D_F = 1 # Tire constants for the computation of the drive-train Y-forces\n",
    "D_R = 1\n",
    "C_F = 1.9\n",
    "C_R = 1.9\n",
    "B_F = 10\n",
    "B_R = 10\n",
    "\n",
    "C_m1 = 50 # Drivetrain constant for the Computation of F_x\n",
    "C_r0 = 1 # Rolling resistance\n",
    "C_r2 = 1 # Drag coefficient\n",
    "\n",
    "\n",
    "### Initializing the first statevector for the model with the initial values----------------------------------------------\n",
    "X_0 = 0 # Initial X position (global)\n",
    "Y_0 = 0 # Initial Y position (global)\n",
    "phi_0 = 0 # Initial heading angle (global)\n",
    "v_x_0 = 0.000000001 # Initial x velocity (vehicle) not 0 to avoid problems with the integral\n",
    "v_y_0 = 0.000000001 # Initial y velocity (vehicle) not 0 to avoid problems with the integral\n",
    "r_0 = 0 # Initial yaw rate\n",
    "delta_0 = 0.01 # Initial steering angle \n",
    "T_0 = 1 # Initial desired accaleration\n",
    "\n",
    "x = np.array([[X_0, Y_0, phi_0, v_x_0, v_y_0, r_0, delta_0, T_0]]) # Initial state vector x\n",
    "\n",
    "\n",
    "### Initializing the first inputvector for the model with initial values----------------------------------------\n",
    "d_delta_0 = 0 # Initial change in steering angle\n",
    "d_T_0 = 0 # Initial change in desired acceleration\n",
    "\n",
    "u = np.array([[d_delta_0, d_T_0]]) # Initial driver inputs to the system\n",
    "\n",
    "\n",
    "### Initializing the empty dictionary for the Gausian Process Regression\n",
    "D = {}\n",
    "\n",
    "\n",
    "### Initializing the Subspace definition matrix B_d\n",
    "B_d = np.zeros((8,3))\n",
    "B_d[3:6,:] = np.eye(3)\n"
   ]
  },
  {
   "cell_type": "markdown",
   "metadata": {},
   "source": [
    "## Nominal vehicle model\n",
    "In the next cell, all the relevant functions for the nominal state computation of the vehicle, and the collection of regression features and training data, are defined."
   ]
  },
  {
   "cell_type": "code",
   "execution_count": 3,
   "metadata": {},
   "outputs": [],
   "source": [
    "### Definition of the vehicle dynamics function---------------------------------------------------------------------------\n",
    "def vehicle_dynamics(t, x):\n",
    "    '''This function takes as an input a statevector x and outputs the analytical derivitive of the statevector x_dot.\n",
    "    This function is only ment to be called through the nominal_vehicle_state() function.'''\n",
    "    \n",
    "    # Decomposing the statevector into its different values\n",
    "    X = x[0]\n",
    "    Y = x[1]\n",
    "    phi = x[2]\n",
    "    v_x = x[3]\n",
    "    v_y = x[4]\n",
    "    r = x[5]\n",
    "    delta = x[6]\n",
    "    T = x[7]\n",
    "    d_delta = u_temp[0]\n",
    "    d_T = u_temp[1]\n",
    "    \n",
    "    '''Computing the additional yaw torque from the torque-controller, the front and read slip angles \n",
    "    and the longitudinal drive-train forces. l_R, l_F and P_TV are the distances to the front and \n",
    "    read axles and the the gain for the torque-controller respectively.'''\n",
    "    \n",
    "    r_target = delta*(v_x/(l_R+l_F))\n",
    "    tau_TV = (r_target - r)*P_TV # Additional torque generated by the torque vectoring controller\n",
    "    \n",
    "    alpha_R = np.arctan((v_y - l_R*r)/v_x) # Front slip angle\n",
    "    alpha_F = np.arctan((v_y + l_F*r)/v_x) - delta # Rear slip angle\n",
    "    F_Ry = D_R*np.sin(C_R*np.arctan(B_R*alpha_R)) # Rear lateral force\n",
    "    F_Fy = D_F*np.sin(C_F*np.arctan(B_F*alpha_F)) # Front lateral force\n",
    "    F_x = C_m1*T - C_r0 - C_r2*(v_x**2) # Applied longitudinal force\n",
    "    \n",
    "    # Computing the values of x_dot\n",
    "    X_dot = v_x*np.cos(phi) - v_y*np.sin(phi)\n",
    "    Y_dot = v_x*np.sin(phi) + v_y*np.cos(phi)\n",
    "    phi_dot = r\n",
    "    v_x_dot = (F_x - F_Fy*np.sin(delta) + m*v_y*r)/m\n",
    "    v_y_dot = (F_Ry + F_Fy*np.cos(delta) - m*v_x*r)/m\n",
    "    r_dot =  (F_Fy*l_F*np.cos(delta) - F_Ry*l_R + tau_TV)/I_z\n",
    "    delta_dot = d_delta \n",
    "    T_dot = d_T\n",
    "    \n",
    "    x_dot = np.array([X_dot, Y_dot, phi_dot, v_x_dot, v_y_dot, r_dot, delta_dot, T_dot])\n",
    "    \n",
    "    return x_dot\n",
    "\n",
    "\n",
    "### Definition of the integration step for the nominal vehicle state------------------------------------------------------\n",
    "def nominal_vehicle_state(x, u):\n",
    "    '''Use the Runge-Kutta 4/5th order integration to solve for the new nominal state of the vehicle\n",
    "    This is probably not entirely right. If I set the initial velocity to 0, the integral gets stuck.\n",
    "    x = x[k]\n",
    "    u = u[k]'''\n",
    "    \n",
    "    global u_temp # I assign this variable globaly so I can call it when solving the ODE\n",
    "    u_temp = u\n",
    "    state = solve_ivp(vehicle_dynamics, t_span = (0, 0.05), y0 = x).y.T[-1]\n",
    "    del u_temp # Deleting the global variable just to be sure...\n",
    "    return state\n",
    "    \n",
    "    \n",
    "### Definition of the function to get the needed regression features------------------------------------------------------\n",
    "def get_regression_features(x, u):\n",
    "    '''This function takes as argument the a statevector x and a driverinput u and outputs a featurevector\n",
    "    z which is used in the Gausian Process Regression.\n",
    "    x = x[k]\n",
    "    u = u[k]'''\n",
    "    \n",
    "    z = np.array([x[3], x[4], x[5], x[6] + u[0]*0.5, x[7] + u[1]*0.5])\n",
    "    return z\n",
    "\n",
    "\n",
    "### Definition of the training data generation function-------------------------------------------------------------------\n",
    "def get_training_data(a, x, u):\n",
    "    '''The function outputs the training data y for a given point k+1 by taking the measured vehicle state a, and \n",
    "    the computed state through the nominal vehicle model. This results in y containg the error of the prediction of \n",
    "    nominal vehicle model. \n",
    "    The traning data is put into the dictionary D together with the correspoinding regression features.\n",
    "    a = measured state of the vehicle at time k+1\n",
    "    x = x[k]\n",
    "    u = u[k]'''\n",
    "    \n",
    "    y = pinv(B_d)@(a - nominal_vehicle_state(x, u))\n",
    "    return y"
   ]
  },
  {
   "cell_type": "markdown",
   "metadata": {},
   "source": [
    "Below I verify my implementation of the nominal state computation by running tests with some constant steering (0.01rad) and accaleration (1) inputs.\n",
    "\n",
    "IMPORTANT: The acctual values e.g. acceleration are not realistic because I estimated all the constants like drivetrain and the constants for the tire model. This means that all the values get obscured from realistic vehicle behaviour. for example an acceleration of 1 which equals to the maximum acceleration possible would not result in the the kind of velocity increase you would expect."
   ]
  },
  {
   "cell_type": "code",
   "execution_count": 4,
   "metadata": {
    "scrolled": true
   },
   "outputs": [],
   "source": [
    "u_new = np.array([d_delta_0, d_T_0]) # Ensuring there is no driver input, just for testing means\n",
    "\n",
    "for k in range(2000):\n",
    "    \n",
    "    x_new = nominal_vehicle_state(x[k], u[k]) # computing x[k+1]\n",
    "    \n",
    "    z_new = get_regression_features(x[k], u[k]) # computing corresponding regression features\n",
    "        \n",
    "    #y_new = get_training_data(x_new, x[k], u[k]) # computing corresponding trainig data \n",
    "    # I am generating random training data to have something to put into D\n",
    "    y_new = (random.randint(0,50),random.randint(30,80),random.randint(120,170)) \n",
    "    \n",
    "    ### Needs MPC for computation of u_new\n",
    "    \n",
    "    x = np.append(x, np.array([x_new]), axis=0) # appending the new statevector\n",
    "    u = np.append(u, np.array([u_new]), axis=0) # appending the new driverinput\n",
    "    \n",
    "    D[tuple(y_new)] = tuple(z_new) # adding datapoint to trainingdictionary D # Filled D to test GPR\n"
   ]
  },
  {
   "cell_type": "code",
   "execution_count": 5,
   "metadata": {},
   "outputs": [
    {
     "data": {
      "image/png": "[encoded data removed]",
      "text/plain": [
       "<Figure size 432x288 with 1 Axes>"
      ]
     },
     "metadata": {
      "needs_background": "light"
     },
     "output_type": "display_data"
    }
   ],
   "source": [
    "xplot = x.T[0]\n",
    "yplot = x.T[1]\n",
    "plt.xlim(-1,300)\n",
    "plt.ylim(-100,100)\n",
    "plt.xlabel(\"X\")\n",
    "plt.ylabel(\"Y\")\n",
    "plt.plot(xplot,yplot)\n",
    "plt.show()"
   ]
  },
  {
   "cell_type": "markdown",
   "metadata": {},
   "source": [
    "The plot shows the X and Y coordinates of the vehicle after the first 2000 iterations. \n",
    "For a constant acceleration and steering angle the plot looks realistic.\n",
    "The fact that with more iterations, the constant steering angle delta has less and less effect on the trajectory is possibly due to the decreasing sideslip angle (the value of arctan decreases as the denominator increases), and the consequently decreasing lateral forces on the vehicle. "
   ]
  },
  {
   "cell_type": "code",
   "execution_count": 6,
   "metadata": {
    "scrolled": true
   },
   "outputs": [
    {
     "data": {
      "image/png": "[encoded data removed]",
      "text/plain": [
       "<Figure size 432x288 with 1 Axes>"
      ]
     },
     "metadata": {
      "needs_background": "light"
     },
     "output_type": "display_data"
    }
   ],
   "source": [
    "xplot = range(2001)\n",
    "yplot = x.T[3]\n",
    "plt.xlabel(\"iterations\")\n",
    "plt.ylabel(\"velocity in x direction\")\n",
    "plt.plot(xplot,yplot)\n",
    "plt.show()"
   ]
  },
  {
   "cell_type": "markdown",
   "metadata": {},
   "source": [
    "This plot also makes sense, since the velocity should increase linear with a constant accaleration. The flattening during the end is most likely due to the dragcoefficient preventing the vehicle from increasing its velocity linearly."
   ]
  },
  {
   "cell_type": "code",
   "execution_count": 7,
   "metadata": {},
   "outputs": [
    {
     "data": {
      "image/png": "[encoded data removed]",
      "text/plain": [
       "<Figure size 432x288 with 1 Axes>"
      ]
     },
     "metadata": {
      "needs_background": "light"
     },
     "output_type": "display_data"
    }
   ],
   "source": [
    "xplot = range(2001)\n",
    "yplot = x.T[4]\n",
    "plt.xlabel(\"iterations\")\n",
    "plt.ylabel(\"velocity in y direction\")\n",
    "plt.plot(xplot,yplot)\n",
    "plt.show()"
   ]
  },
  {
   "cell_type": "markdown",
   "metadata": {},
   "source": [
    "since the y_velocity is in bodyframe, the drag has no impact on it, which means it is steadily increasing due to the constant steering angle. "
   ]
  },
  {
   "cell_type": "markdown",
   "metadata": {},
   "source": [
    "The cell below, shows that with higher drag-coefficient, the x_velocity plateaus after about 1000 iterations."
   ]
  },
  {
   "cell_type": "code",
   "execution_count": 8,
   "metadata": {},
   "outputs": [
    {
     "data": {
      "image/png": "[encoded data removed]",
      "text/plain": [
       "<Figure size 432x288 with 1 Axes>"
      ]
     },
     "metadata": {
      "needs_background": "light"
     },
     "output_type": "display_data"
    }
   ],
   "source": [
    "### Initializing the first statevector for the model with the initial values----------------------------------------------\n",
    "\n",
    "C_r2 = 20\n",
    "\n",
    "X_0 = 0 # Initial X position (global)\n",
    "Y_0 = 0 # Initial Y position (global)\n",
    "phi_0 = 0 # Initial heading angle (global)\n",
    "v_x_0 = 0.000000000000001 # Initial x velocity (vehicle) not 0 to avoid problems with the integral\n",
    "v_y_0 = 0.000000000000001 # Initial y velocity (vehicle) not 0 to avoid problems with the integral\n",
    "r_0 = 0 # Initial yaw rate\n",
    "delta_0 = 0.01 # Initial steering angle \n",
    "T_0 = 1 # Initial desired accaleration\n",
    "\n",
    "x = np.array([[X_0, Y_0, phi_0, v_x_0, v_y_0, r_0, delta_0, T_0]]) # Initial state vector x\n",
    "\n",
    "### Here I am initializing the first inputvector for the model with initial values----------------------------------------\n",
    "\n",
    "d_delta_0 = 0 # Initial change in steering angle\n",
    "d_T_0 = 0 # Initial change in desired acceleration\n",
    "\n",
    "u = np.array([[d_delta_0, d_T_0]]) # Initial driver inputs to the system\n",
    "u_new = np.array([d_delta_0, d_T_0]) # Ensuring there is no driver input, just for testing means\n",
    "\n",
    "for k in range(2000):\n",
    "    \n",
    "    x_new = nominal_vehicle_state(x[k], u[k]) # computing x[k+1]\n",
    "    y_new = (random.randint(0,50),random.randint(30,80),random.randint(120,170))\n",
    "    \n",
    "    ### Needs MPC for computation of u_new\n",
    "    \n",
    "    x = np.append(x, np.array([x_new]), axis=0) # appending the new statevector\n",
    "    u = np.append(u, np.array([u_new]), axis=0) # appending the new driverinput\n",
    "\n",
    "xplot = range(2001)\n",
    "yplot = x.T[3]\n",
    "plt.xlabel(\"iterations\")\n",
    "plt.ylabel(\"velocity in y direction\")\n",
    "plt.plot(xplot,yplot)\n",
    "plt.show()"
   ]
  },
  {
   "cell_type": "markdown",
   "metadata": {},
   "source": [
    "## Gaussian Process Regression\n",
    "\n",
    "This is a very basic implementation of the GRP using the corresponding sklearn module. "
   ]
  },
  {
   "cell_type": "code",
   "execution_count": 9,
   "metadata": {},
   "outputs": [],
   "source": [
    "'''After every training lap, the parameters for the Gaussian Process regression are set and the regressor is fit,\n",
    "using the data from D'''\n",
    "\n",
    "w_k = [0, np.eye(3)*0.1] # zero meaned gaussian noise with (made up) variance matrix\n",
    "sigma_f_a = 0.1 # In the paper this is said to be the signal variance. Not sure what is ment by that.\n",
    "\n",
    "\n",
    "L_a = np.ones(5) # length matrix of size n_z x n_Z\n",
    "kernel = sigma_f_a**2*RBF(L_a) # Squared exponential kernal for the GPR\n",
    "\n",
    "# Fitting the GPR to the values in D\n",
    "gpr = GaussianProcessRegressor(kernel=kernel, random_state=0).fit(list(D.values())[0:250], list(D.keys())[0:250])\n",
    "    "
   ]
  },
  {
   "cell_type": "markdown",
   "metadata": {},
   "source": [
    "Together, with the nominal vehicle model one could now iteratively compute the vehicle state, using the following expression.\n",
    "Additionaly this would be the time to compute the training data y[k] which may be used in kombination with z[k] in future learning iterations of the GPR."
   ]
  },
  {
   "cell_type": "code",
   "execution_count": 10,
   "metadata": {},
   "outputs": [],
   "source": [
    "z_new = get_regression_features(x[k], u[k]) # computing corresponding regression features\n",
    "\n",
    "x_new = nominal_vehicle_state(x[k], u[k]) + B_d@(gpr.predict(np.array([z_new])).T + w_k[0]) # computing x[k+1]\n",
    "\n",
    "y_new = get_training_data(x_new, x[k], u[k])"
   ]
  },
  {
   "cell_type": "markdown",
   "metadata": {},
   "source": [
    "## MPC formulation\n",
    "\n",
    "since I am not going to impliment a Solver, I will just write down the equasions for the objective function and the constrains for the MPC optimization problem. \n",
    "These could propably be inserted in a python solver. In that case the functions would need to be transfered and the variables adjusted. Obviously the forumlation of the objective function and the constraints would also have to be changed."
   ]
  },
  {
   "cell_type": "code",
   "execution_count": 11,
   "metadata": {},
   "outputs": [],
   "source": [
    "### Defining the constants needed in the optimization problem\n",
    "q_c = 1\n",
    "q_l = 1\n",
    "q_beta = 1\n",
    "kappa = 1\n",
    "\n",
    "# min/max values for stearing angle and driver command and their respective rate of change\n",
    "delta_min = -np.pi/4\n",
    "delta_max = np.pi/4\n",
    "T_min = -0.3\n",
    "T_max = 0.3\n",
    "d_delta_min = 0.1\n",
    "d_delta_max = 0.1\n",
    "d_T_min = 0.1\n",
    "d_T_max = 0.1\n",
    "\n",
    "p_long = 1 # Defining the tire-specific frictional ellipse\n",
    "p_ellipse = 1 # Defining the tire-specific frictional ellipse\n",
    "\n",
    "\n",
    "### Representation of the Track\n",
    "'''The track that is supposed to be followed is parameterized by the variable theta, element of [0,theta_max].\n",
    "The track is specified by four parameters. The X and Y coordinates of the centerline (X_c[theta] and Y_c[theta]), \n",
    "the orientation of the track (phi_c[theta]), and the Radius R_c[theta] which corresponds to the width of the track\n",
    "at point theta.'''\n",
    "\n",
    "'''This is a simple mockup of the relevant parameters to reference something in the functions\n",
    "of how the track could be parameterized. In a real system these parameters would most likely be computed by the\n",
    "sensors of the car. The shape of this example-track is (theta_max, 4).'''\n",
    "track = np.array([[0, 0, 0, 5], [1, 0, 0, 5], [2, 0, 0, 5]]) \n"
   ]
  },
  {
   "cell_type": "markdown",
   "metadata": {},
   "source": [
    "Next, I will define all the functions neccecary for the objective function and the constraints of the controller."
   ]
  },
  {
   "cell_type": "code",
   "execution_count": 12,
   "metadata": {},
   "outputs": [],
   "source": [
    "### Defining the contouring error function\n",
    "def e_c(mu_x, theta):\n",
    "    '''This function computes the contouring error and is used in the contouring cost function.\n",
    "    It takes as an input a predicted state mu_x and the correspoinding position of the track theta.'''\n",
    "    \n",
    "    return -np.cos(track[theta][2])*(mu_x[0] - track[theta][0]) - np.sin(track[theta][2])*(mu_x[1] - track[theta][1])\n",
    "\n",
    "### Defining the lag error function\n",
    "def e_l(mu_x, theta):\n",
    "    \n",
    "    return np.sin(track[theta][2])*(mu_x[0] - track[theta][0]) - np.cos(track[theta][2])*(mu_x[1] - track[theta][1])\n",
    "\n",
    "\n",
    "### Defining the contouring cost function\n",
    "def cont_cost(mu_x, theta, v):\n",
    "    '''This function computes the contouring cost for the objective function of the MPC.\n",
    "    It takes as input the predicted state of the vehicle mu_x, the track progress variable theta\n",
    "    and the decisionvariable v, at prediction time k.\n",
    "    It is worth mentioning that the model aims to maximize v, which, taken into consideration the constraint of the\n",
    "    optimization model, maximizes the vehicles progress along the track.'''\n",
    "    \n",
    "    return q_c*e_c(mu_x, theta)**2 + q_l*e_l(mu_x, theta)**2 - kappa*v\n",
    "\n",
    "\n",
    "### Defining the first regularization term\n",
    "def reg1(mu_x, u):\n",
    "    '''This function computes the first regularization term for the objective function of the MPC.\n",
    "    It takes as input the predicted state of the vehicle mu_x, and the decisionvariable u, at prediction time k.\n",
    "    R_x and R_u are used in the paper to compute the vectorized 2-norm but I did not find there exsact definition.'''\n",
    "    vec1 = np.array([[mu_x[6]],[mu_x[7]]])\n",
    "    vec2 = np.array([[u[0]],[u[1]]])\n",
    "    \n",
    "    return vec1.T@R_x@vec1 + vec2.T@R_u@vec2\n",
    "\n",
    "\n",
    "### Defining the second regularization term\n",
    "def reg2(mu_x):\n",
    "    '''This function computes the first regularization term for the objective function of the MPC.\n",
    "    It takes as input the predicted state of the vehicle mu_x. This regularizationterm is a \n",
    "    penalty for driving agressiveness'''\n",
    "    beta_dyn = np.arctan(mu_x[4]/mu_x[3])\n",
    "    beta_kin = np.arctan(np.tan(mu_x[6])*l_R/(l_R+l_F))\n",
    "    return q_beta*(beta_kin - beta_dyn)**2\n",
    "\n",
    "\n",
    "### Defining a function for the propagation of the predicted vehicle state and variance matrix\n",
    "def propagate_vehicle_state(mu_x, u):\n",
    "    '''This function propagates the estimated state and the variance matrix through the lookahead distance.\n",
    "    It takes as unput the current predicted state mu_x[k], the corresponding variance matrix var_mat_x[k], and\n",
    "    the decisionvariable u[k].gpr_tile is a sparse Gaussian Process regression model which is a modification\n",
    "    to the standart GPR. The function returns a list, containing the k+1th mu_x vector and the k+1th variance matrix'''\n",
    "    \n",
    "    mu_x_new = nominal_vehicle_state(mu_x, u) + B_d@gpr_tilde.predict(get_regression_features(mu_x, u))\n",
    "    \n",
    "    return mu_x_new\n",
    "\n",
    "\n",
    "### Defining a function that computs R_GP\n",
    "def compute_R_GP(var_mat_x):\n",
    "    '''This function computes the R_GP, which is part of the variance constraint wich is used to constraint the\n",
    "    vehicle to a smaller trackradius then the nominal one, by taking into account the corresponding variance on the\n",
    "    computed X and Y position values.\n",
    "    The paper states that the quantiles are precomputed based on the previous solution trajectory'''\n",
    "    \n",
    "    w, v = eig(var_mat_x[0:2, 0:2])\n",
    "    return np.squrt(chi2.pdf(0.05, 2)*min(w)) # I set p to 5% now, because it was not further specified"
   ]
  },
  {
   "cell_type": "markdown",
   "metadata": {},
   "source": [
    "Here I tried to get as close to the formulation of the given optimization problem. Obviously this wouldnt work, but it helped me to understand the purpose and way of working of the different constraints."
   ]
  },
  {
   "cell_type": "code",
   "execution_count": null,
   "metadata": {},
   "outputs": [],
   "source": [
    "### Objective function of the MPC -- this would look much different in an acctual solver\n",
    "'''The decition variables that are optimized for are u[k] = [u[k][0], u[k][1]] and v[k]'''\n",
    "N = 40 # Prediction Horizon\n",
    "\n",
    "objective_function_value = 0\n",
    "for k in range(N):\n",
    "    objective_function_value += (cont_cost(mu_x[k], theta[k], v[k]) + reg1(mu_x[k], u[k]) + reg2(mu_x[k]))\n",
    "    \n",
    "MINIMIZE: objective_funtion_value\n",
    "\n",
    "### Constraint 1\n",
    "'''This constraint defines the momentary statevector of the vehicle (x[t]) as the starting point for the \n",
    "lookahead of the controller. x[t] is most likely optained by sensor supported stateestimation algorithms.'''\n",
    "mu_x[0] = x[t]\n",
    "\n",
    "### Constraint 2\n",
    "'''This constraint defines how mu_x is iteratively updated to estimate the vehicle state through the lookahead distance.'''\n",
    "mu_x[k+1] = propagate_vehicle_state(mu_x[k], u[k])\n",
    "\n",
    "### Constraint 3 \n",
    "'''This constraint specifies the vehicles progression along the track. The model tries to make as much progression as \n",
    "possible, meaning completing the track as fast as possible. This is because the decisionvariable v[k] is maximized in\n",
    "objective function of the MPC.'''\n",
    "theta[k+1] = theta[k] + v[k]\n",
    "\n",
    "### Constraint 4\n",
    "''' This constraint ensures that the vehicle stays within the track by ensuring that the predicted position is not moving \n",
    "further from the centerline then the with of the track at that point, minus the variance-value R_GP.\n",
    "It is important to note that for this constraint precomputed values from the last iteration of the controller are used.\n",
    "This means the theta value and the variance matrix for this constrain, stay fixed through the whole optimization process\n",
    "to esure computational feasibility.'''\n",
    "norm(np.array([[mu_x[k][0] - track[theta_fixed[0]]],[mu_x[k][1] - track[theta_fixed[1]]]])) <= \\\n",
    "norm(track[theta_fixed][4]-compute_R_GP(var_mat_x))\n",
    "\n",
    "### Constaint 5(a,b)\n",
    "''' This constraint limits the tire forces to the frictional elipse. If this controller would be implimented as a class,\n",
    "the tire-forces could be computed and updated as a state of the class, meaning they could be referenced in the MPC.'''\n",
    "(p_long*F_x)**2 + F_Fy**2 <= (p_ellipse*D_F)**2\n",
    "(p_long*F_x)**2 + F_Ry**2 <= (p_ellipse*D_R)**2\n",
    "\n",
    "### Constraint 6\n",
    "''' This constraint limits the steering angle delta and driver command T as well as their rate of change to \n",
    "maximum/minimum values'''\n",
    "delta_min <= mu_x[k][6] <= delta_max\n",
    "d_delta_min <= u[k][0] <= d_delta_max\n",
    "T_min <= mu_x[k][7] <= T_max\n",
    "d_T_min <= u[k][1] <= d_T_max"
   ]
  },
  {
   "cell_type": "code",
   "execution_count": null,
   "metadata": {},
   "outputs": [],
   "source": []
  }
 ],
 "metadata": {
  "kernelspec": {
   "display_name": "Python 3",
   "language": "python",
   "name": "python3"
  },
  "language_info": {
   "codemirror_mode": {
    "name": "ipython",
    "version": 3
   },
   "file_extension": ".py",
   "mimetype": "text/x-python",
   "name": "python",
   "nbconvert_exporter": "python",
   "pygments_lexer": "ipython3",
   "version": "3.7.1"
  }
 },
 "nbformat": 4,
 "nbformat_minor": 4
}
